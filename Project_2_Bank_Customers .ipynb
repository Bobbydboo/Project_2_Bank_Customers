{
 "cells": [
  {
   "cell_type": "markdown",
   "id": "18ad46e9",
   "metadata": {
    "toc": true
   },
   "source": [
    "<h1>Table of Contents<span class=\"tocSkip\"></span></h1>\n",
    "<div class=\"toc\"><ul class=\"toc-item\"><li><span><a href=\"#Проект-&quot;Исследование-надежности-заемщиков&quot;\" data-toc-modified-id=\"Проект-&quot;Исследование-надежности-заемщиков&quot;-1\"><span class=\"toc-item-num\">1&nbsp;&nbsp;</span>Проект \"Исследование надежности заемщиков\"</a></span></li><li><span><a href=\"#Цели-проекта-&quot;Исследование-надежности-заемщиков&quot;\" data-toc-modified-id=\"Цели-проекта-&quot;Исследование-надежности-заемщиков&quot;-2\"><span class=\"toc-item-num\">2&nbsp;&nbsp;</span>Цели проекта \"Исследование надежности заемщиков\"</a></span></li><li><span><a href=\"#Import\" data-toc-modified-id=\"Import-3\"><span class=\"toc-item-num\">3&nbsp;&nbsp;</span>Import</a></span></li><li><span><a href=\"#Загрузка-данных\" data-toc-modified-id=\"Загрузка-данных-4\"><span class=\"toc-item-num\">4&nbsp;&nbsp;</span>Загрузка данных</a></span><ul class=\"toc-item\"><li><span><a href=\"#Предобработка-данных\" data-toc-modified-id=\"Предобработка-данных-4.1\"><span class=\"toc-item-num\">4.1&nbsp;&nbsp;</span>Предобработка данных</a></span><ul class=\"toc-item\"><li><span><a href=\"#Обработка-пропусков-и-аномалий\" data-toc-modified-id=\"Обработка-пропусков-и-аномалий-4.1.1\"><span class=\"toc-item-num\">4.1.1&nbsp;&nbsp;</span>Обработка пропусков и аномалий</a></span></li><li><span><a href=\"#Изменение-типов-данных\" data-toc-modified-id=\"Изменение-типов-данных-4.1.2\"><span class=\"toc-item-num\">4.1.2&nbsp;&nbsp;</span>Изменение типов данных</a></span></li><li><span><a href=\"#Обработка-дубликатов\" data-toc-modified-id=\"Обработка-дубликатов-4.1.3\"><span class=\"toc-item-num\">4.1.3&nbsp;&nbsp;</span>Обработка дубликатов</a></span></li><li><span><a href=\"#Категоризация-данных\" data-toc-modified-id=\"Категоризация-данных-4.1.4\"><span class=\"toc-item-num\">4.1.4&nbsp;&nbsp;</span>Категоризация данных</a></span></li></ul></li></ul></li><li><span><a href=\"#Есть-ли-зависимость-между-количеством-детей-и-возвратом-кредита-в-срок?&quot;\" data-toc-modified-id=\"Есть-ли-зависимость-между-количеством-детей-и-возвратом-кредита-в-срок?&quot;-5\"><span class=\"toc-item-num\">5&nbsp;&nbsp;</span>Есть ли зависимость между количеством детей и возвратом кредита в срок?\"</a></span></li><li><span><a href=\"#Есть-ли-зависимость-между-семейным-положением-и-возвратом-кредита-в-срок?\" data-toc-modified-id=\"Есть-ли-зависимость-между-семейным-положением-и-возвратом-кредита-в-срок?-6\"><span class=\"toc-item-num\">6&nbsp;&nbsp;</span>Есть ли зависимость между семейным положением и возвратом кредита в срок?</a></span></li><li><span><a href=\"#Есть-ли-зависимость-между-уровнем-дохода-и-возвратом-кредита-в-срок?\" data-toc-modified-id=\"Есть-ли-зависимость-между-уровнем-дохода-и-возвратом-кредита-в-срок?-7\"><span class=\"toc-item-num\">7&nbsp;&nbsp;</span>Есть ли зависимость между уровнем дохода и возвратом кредита в срок?</a></span></li><li><span><a href=\"#Как-разные-цели-кредита-влияют-на-его-возврат-в-срок?\" data-toc-modified-id=\"Как-разные-цели-кредита-влияют-на-его-возврат-в-срок?-8\"><span class=\"toc-item-num\">8&nbsp;&nbsp;</span>Как разные цели кредита влияют на его возврат в срок?</a></span></li><li><span><a href=\"#Возможные-причины-появления-пропусков-в-исходных-данных\" data-toc-modified-id=\"Возможные-причины-появления-пропусков-в-исходных-данных-9\"><span class=\"toc-item-num\">9&nbsp;&nbsp;</span>Возможные причины появления пропусков в исходных данных</a></span></li><li><span><a href=\"#Итоговый-вывод:\" data-toc-modified-id=\"Итоговый-вывод:-10\"><span class=\"toc-item-num\">10&nbsp;&nbsp;</span>Итоговый вывод:</a></span></li></ul></div>"
   ]
  },
  {
   "cell_type": "markdown",
   "id": "4a1f6a6d",
   "metadata": {},
   "source": [
    "# Проект \"Исследование надежности заемщиков\""
   ]
  },
  {
   "cell_type": "markdown",
   "id": "a9917990",
   "metadata": {},
   "source": [
    "# Цели проекта \"Исследование надежности заемщиков\"\n",
    "\n",
    "1. Провести анализ и обработку исходных данных, включая выявление и исправление ошибок, а также заполнение пропущенных значений.\n",
    "\n",
    "2. Исследовать зависимость между различными параметрами клиентов и вероятностью возврата кредита.\n",
    "\n",
    "3. Оценить влияние количества детей, семейного положения, уровня дохода и цели кредита на вероятность возврата кредита.\n",
    "\n",
    "4. Построить модель, предсказывающую вероятность возврата кредита для новых клиентов на основе анализа данных.\n",
    "\n",
    "5. Сформулировать рекомендации для банка по улучшению процесса принятия решения о выдаче кредитов и снижению рисков.\n",
    "\n",
    "6. Подготовить итоговый отчет, включающий в себя аналитический обзор, выводы и рекомендации на основе проведенного исследования.\n",
    "\n",
    "Цели проекта направлены на повышение надежности выдачи кредитов и снижение рисков для банка.\n"
   ]
  },
  {
   "cell_type": "markdown",
   "id": "97d8cfdf",
   "metadata": {},
   "source": [
    "# Import"
   ]
  },
  {
   "cell_type": "code",
   "execution_count": 1,
   "id": "5500041c",
   "metadata": {},
   "outputs": [],
   "source": [
    "import pandas as pd"
   ]
  },
  {
   "cell_type": "markdown",
   "id": "04d15f10",
   "metadata": {},
   "source": [
    "# Загрузка данных "
   ]
  },
  {
   "cell_type": "code",
   "execution_count": 4,
   "id": "b565d3a1",
   "metadata": {},
   "outputs": [],
   "source": [
    "try:\n",
    "    data = pd.read_csv(r'C:/Users/Admin/Desktop/Яндек-проекты/Проект 2. Предобработка данных/task_csv/data.csv')\n",
    "except:\n",
    "    data = pd.read_csv('https://code.s3.yandex.net/datasets/data.csv')"
   ]
  },
  {
   "cell_type": "code",
   "execution_count": 6,
   "id": "349e66ff",
   "metadata": {},
   "outputs": [
    {
     "data": {
      "text/html": [
       "<div>\n",
       "<style scoped>\n",
       "    .dataframe tbody tr th:only-of-type {\n",
       "        vertical-align: middle;\n",
       "    }\n",
       "\n",
       "    .dataframe tbody tr th {\n",
       "        vertical-align: top;\n",
       "    }\n",
       "\n",
       "    .dataframe thead th {\n",
       "        text-align: right;\n",
       "    }\n",
       "</style>\n",
       "<table border=\"1\" class=\"dataframe\">\n",
       "  <thead>\n",
       "    <tr style=\"text-align: right;\">\n",
       "      <th></th>\n",
       "      <th>children</th>\n",
       "      <th>days_employed</th>\n",
       "      <th>dob_years</th>\n",
       "      <th>education</th>\n",
       "      <th>education_id</th>\n",
       "      <th>family_status</th>\n",
       "      <th>family_status_id</th>\n",
       "      <th>gender</th>\n",
       "      <th>income_type</th>\n",
       "      <th>debt</th>\n",
       "      <th>total_income</th>\n",
       "      <th>purpose</th>\n",
       "    </tr>\n",
       "  </thead>\n",
       "  <tbody>\n",
       "    <tr>\n",
       "      <th>0</th>\n",
       "      <td>1</td>\n",
       "      <td>-8437.673028</td>\n",
       "      <td>42</td>\n",
       "      <td>высшее</td>\n",
       "      <td>0</td>\n",
       "      <td>женат / замужем</td>\n",
       "      <td>0</td>\n",
       "      <td>F</td>\n",
       "      <td>сотрудник</td>\n",
       "      <td>0</td>\n",
       "      <td>253875.639453</td>\n",
       "      <td>покупка жилья</td>\n",
       "    </tr>\n",
       "    <tr>\n",
       "      <th>1</th>\n",
       "      <td>1</td>\n",
       "      <td>-4024.803754</td>\n",
       "      <td>36</td>\n",
       "      <td>среднее</td>\n",
       "      <td>1</td>\n",
       "      <td>женат / замужем</td>\n",
       "      <td>0</td>\n",
       "      <td>F</td>\n",
       "      <td>сотрудник</td>\n",
       "      <td>0</td>\n",
       "      <td>112080.014102</td>\n",
       "      <td>приобретение автомобиля</td>\n",
       "    </tr>\n",
       "    <tr>\n",
       "      <th>2</th>\n",
       "      <td>0</td>\n",
       "      <td>-5623.422610</td>\n",
       "      <td>33</td>\n",
       "      <td>Среднее</td>\n",
       "      <td>1</td>\n",
       "      <td>женат / замужем</td>\n",
       "      <td>0</td>\n",
       "      <td>M</td>\n",
       "      <td>сотрудник</td>\n",
       "      <td>0</td>\n",
       "      <td>145885.952297</td>\n",
       "      <td>покупка жилья</td>\n",
       "    </tr>\n",
       "    <tr>\n",
       "      <th>3</th>\n",
       "      <td>3</td>\n",
       "      <td>-4124.747207</td>\n",
       "      <td>32</td>\n",
       "      <td>среднее</td>\n",
       "      <td>1</td>\n",
       "      <td>женат / замужем</td>\n",
       "      <td>0</td>\n",
       "      <td>M</td>\n",
       "      <td>сотрудник</td>\n",
       "      <td>0</td>\n",
       "      <td>267628.550329</td>\n",
       "      <td>дополнительное образование</td>\n",
       "    </tr>\n",
       "    <tr>\n",
       "      <th>4</th>\n",
       "      <td>0</td>\n",
       "      <td>340266.072047</td>\n",
       "      <td>53</td>\n",
       "      <td>среднее</td>\n",
       "      <td>1</td>\n",
       "      <td>гражданский брак</td>\n",
       "      <td>1</td>\n",
       "      <td>F</td>\n",
       "      <td>пенсионер</td>\n",
       "      <td>0</td>\n",
       "      <td>158616.077870</td>\n",
       "      <td>сыграть свадьбу</td>\n",
       "    </tr>\n",
       "  </tbody>\n",
       "</table>\n",
       "</div>"
      ],
      "text/plain": [
       "   children  days_employed  dob_years education  education_id  \\\n",
       "0         1   -8437.673028         42    высшее             0   \n",
       "1         1   -4024.803754         36   среднее             1   \n",
       "2         0   -5623.422610         33   Среднее             1   \n",
       "3         3   -4124.747207         32   среднее             1   \n",
       "4         0  340266.072047         53   среднее             1   \n",
       "\n",
       "      family_status  family_status_id gender income_type  debt   total_income  \\\n",
       "0   женат / замужем                 0      F   сотрудник     0  253875.639453   \n",
       "1   женат / замужем                 0      F   сотрудник     0  112080.014102   \n",
       "2   женат / замужем                 0      M   сотрудник     0  145885.952297   \n",
       "3   женат / замужем                 0      M   сотрудник     0  267628.550329   \n",
       "4  гражданский брак                 1      F   пенсионер     0  158616.077870   \n",
       "\n",
       "                      purpose  \n",
       "0               покупка жилья  \n",
       "1     приобретение автомобиля  \n",
       "2               покупка жилья  \n",
       "3  дополнительное образование  \n",
       "4             сыграть свадьбу  "
      ]
     },
     "execution_count": 6,
     "metadata": {},
     "output_type": "execute_result"
    }
   ],
   "source": [
    "data.head(5)"
   ]
  },
  {
   "cell_type": "code",
   "execution_count": 7,
   "id": "5d532ff1",
   "metadata": {},
   "outputs": [
    {
     "data": {
      "text/html": [
       "<div>\n",
       "<style scoped>\n",
       "    .dataframe tbody tr th:only-of-type {\n",
       "        vertical-align: middle;\n",
       "    }\n",
       "\n",
       "    .dataframe tbody tr th {\n",
       "        vertical-align: top;\n",
       "    }\n",
       "\n",
       "    .dataframe thead th {\n",
       "        text-align: right;\n",
       "    }\n",
       "</style>\n",
       "<table border=\"1\" class=\"dataframe\">\n",
       "  <thead>\n",
       "    <tr style=\"text-align: right;\">\n",
       "      <th></th>\n",
       "      <th>children</th>\n",
       "      <th>days_employed</th>\n",
       "      <th>dob_years</th>\n",
       "      <th>education</th>\n",
       "      <th>education_id</th>\n",
       "      <th>family_status</th>\n",
       "      <th>family_status_id</th>\n",
       "      <th>gender</th>\n",
       "      <th>income_type</th>\n",
       "      <th>debt</th>\n",
       "      <th>total_income</th>\n",
       "      <th>purpose</th>\n",
       "    </tr>\n",
       "  </thead>\n",
       "  <tbody>\n",
       "    <tr>\n",
       "      <th>21520</th>\n",
       "      <td>1</td>\n",
       "      <td>-4529.316663</td>\n",
       "      <td>43</td>\n",
       "      <td>среднее</td>\n",
       "      <td>1</td>\n",
       "      <td>гражданский брак</td>\n",
       "      <td>1</td>\n",
       "      <td>F</td>\n",
       "      <td>компаньон</td>\n",
       "      <td>0</td>\n",
       "      <td>224791.862382</td>\n",
       "      <td>операции с жильем</td>\n",
       "    </tr>\n",
       "    <tr>\n",
       "      <th>21521</th>\n",
       "      <td>0</td>\n",
       "      <td>343937.404131</td>\n",
       "      <td>67</td>\n",
       "      <td>среднее</td>\n",
       "      <td>1</td>\n",
       "      <td>женат / замужем</td>\n",
       "      <td>0</td>\n",
       "      <td>F</td>\n",
       "      <td>пенсионер</td>\n",
       "      <td>0</td>\n",
       "      <td>155999.806512</td>\n",
       "      <td>сделка с автомобилем</td>\n",
       "    </tr>\n",
       "    <tr>\n",
       "      <th>21522</th>\n",
       "      <td>1</td>\n",
       "      <td>-2113.346888</td>\n",
       "      <td>38</td>\n",
       "      <td>среднее</td>\n",
       "      <td>1</td>\n",
       "      <td>гражданский брак</td>\n",
       "      <td>1</td>\n",
       "      <td>M</td>\n",
       "      <td>сотрудник</td>\n",
       "      <td>1</td>\n",
       "      <td>89672.561153</td>\n",
       "      <td>недвижимость</td>\n",
       "    </tr>\n",
       "    <tr>\n",
       "      <th>21523</th>\n",
       "      <td>3</td>\n",
       "      <td>-3112.481705</td>\n",
       "      <td>38</td>\n",
       "      <td>среднее</td>\n",
       "      <td>1</td>\n",
       "      <td>женат / замужем</td>\n",
       "      <td>0</td>\n",
       "      <td>M</td>\n",
       "      <td>сотрудник</td>\n",
       "      <td>1</td>\n",
       "      <td>244093.050500</td>\n",
       "      <td>на покупку своего автомобиля</td>\n",
       "    </tr>\n",
       "    <tr>\n",
       "      <th>21524</th>\n",
       "      <td>2</td>\n",
       "      <td>-1984.507589</td>\n",
       "      <td>40</td>\n",
       "      <td>среднее</td>\n",
       "      <td>1</td>\n",
       "      <td>женат / замужем</td>\n",
       "      <td>0</td>\n",
       "      <td>F</td>\n",
       "      <td>сотрудник</td>\n",
       "      <td>0</td>\n",
       "      <td>82047.418899</td>\n",
       "      <td>на покупку автомобиля</td>\n",
       "    </tr>\n",
       "  </tbody>\n",
       "</table>\n",
       "</div>"
      ],
      "text/plain": [
       "       children  days_employed  dob_years education  education_id  \\\n",
       "21520         1   -4529.316663         43   среднее             1   \n",
       "21521         0  343937.404131         67   среднее             1   \n",
       "21522         1   -2113.346888         38   среднее             1   \n",
       "21523         3   -3112.481705         38   среднее             1   \n",
       "21524         2   -1984.507589         40   среднее             1   \n",
       "\n",
       "          family_status  family_status_id gender income_type  debt  \\\n",
       "21520  гражданский брак                 1      F   компаньон     0   \n",
       "21521   женат / замужем                 0      F   пенсионер     0   \n",
       "21522  гражданский брак                 1      M   сотрудник     1   \n",
       "21523   женат / замужем                 0      M   сотрудник     1   \n",
       "21524   женат / замужем                 0      F   сотрудник     0   \n",
       "\n",
       "        total_income                       purpose  \n",
       "21520  224791.862382             операции с жильем  \n",
       "21521  155999.806512          сделка с автомобилем  \n",
       "21522   89672.561153                  недвижимость  \n",
       "21523  244093.050500  на покупку своего автомобиля  \n",
       "21524   82047.418899         на покупку автомобиля  "
      ]
     },
     "execution_count": 7,
     "metadata": {},
     "output_type": "execute_result"
    }
   ],
   "source": [
    "data.tail(5)"
   ]
  },
  {
   "cell_type": "code",
   "execution_count": 8,
   "id": "4d16ebe7",
   "metadata": {},
   "outputs": [
    {
     "name": "stdout",
     "output_type": "stream",
     "text": [
      "<class 'pandas.core.frame.DataFrame'>\n",
      "RangeIndex: 21525 entries, 0 to 21524\n",
      "Data columns (total 12 columns):\n",
      " #   Column            Non-Null Count  Dtype  \n",
      "---  ------            --------------  -----  \n",
      " 0   children          21525 non-null  int64  \n",
      " 1   days_employed     19351 non-null  float64\n",
      " 2   dob_years         21525 non-null  int64  \n",
      " 3   education         21525 non-null  object \n",
      " 4   education_id      21525 non-null  int64  \n",
      " 5   family_status     21525 non-null  object \n",
      " 6   family_status_id  21525 non-null  int64  \n",
      " 7   gender            21525 non-null  object \n",
      " 8   income_type       21525 non-null  object \n",
      " 9   debt              21525 non-null  int64  \n",
      " 10  total_income      19351 non-null  float64\n",
      " 11  purpose           21525 non-null  object \n",
      "dtypes: float64(2), int64(5), object(5)\n",
      "memory usage: 2.0+ MB\n"
     ]
    }
   ],
   "source": [
    "data.info()"
   ]
  },
  {
   "cell_type": "markdown",
   "id": "7cf09998",
   "metadata": {},
   "source": [
    "## Предобработка данных"
   ]
  },
  {
   "cell_type": "markdown",
   "id": "58ed6c63",
   "metadata": {},
   "source": [
    "### Обработка пропусков и аномалий"
   ]
  },
  {
   "cell_type": "code",
   "execution_count": 9,
   "id": "df7075ca",
   "metadata": {},
   "outputs": [
    {
     "data": {
      "text/plain": [
       "children               0\n",
       "days_employed       2174\n",
       "dob_years              0\n",
       "education              0\n",
       "education_id           0\n",
       "family_status          0\n",
       "family_status_id       0\n",
       "gender                 0\n",
       "income_type            0\n",
       "debt                   0\n",
       "total_income        2174\n",
       "purpose                0\n",
       "dtype: int64"
      ]
     },
     "execution_count": 9,
     "metadata": {},
     "output_type": "execute_result"
    }
   ],
   "source": [
    "data.isna().sum()"
   ]
  },
  {
   "cell_type": "markdown",
   "id": "058f9be0",
   "metadata": {},
   "source": [
    "Заполняем медианным значением поле `total_income` среди всех записей с тем же типом   "
   ]
  },
  {
   "cell_type": "code",
   "execution_count": 10,
   "id": "40fd74a7",
   "metadata": {},
   "outputs": [],
   "source": [
    "for t in data['income_type'].unique():\n",
    "    data.loc[(data['income_type'] == t) & (data['total_income'].isna()), 'total_income'] = \\\n",
    "    data.loc[(data['income_type'] == t), 'total_income'].median()"
   ]
  },
  {
   "cell_type": "markdown",
   "id": "0051580f",
   "metadata": {},
   "source": [
    "Исправим аномалию в поле `days_employed` с помощью метода `abs()`"
   ]
  },
  {
   "cell_type": "code",
   "execution_count": 11,
   "id": "c093b234",
   "metadata": {},
   "outputs": [],
   "source": [
    "data['days_employed'] = data['days_employed'].abs()"
   ]
  },
  {
   "cell_type": "markdown",
   "id": "6ec408bd",
   "metadata": {},
   "source": [
    "Для каждого типа занятости выведем медианное значение трудового стажа `days_employed` в днях"
   ]
  },
  {
   "cell_type": "code",
   "execution_count": 13,
   "id": "39cb3ea7",
   "metadata": {},
   "outputs": [
    {
     "data": {
      "text/plain": [
       "income_type\n",
       "безработный        366413.652744\n",
       "в декрете            3296.759962\n",
       "госслужащий          2689.368353\n",
       "компаньон            1547.382223\n",
       "пенсионер          365213.306266\n",
       "предприниматель       520.848083\n",
       "сотрудник            1574.202821\n",
       "студент               578.751554\n",
       "Name: days_employed, dtype: float64"
      ]
     },
     "execution_count": 13,
     "metadata": {},
     "output_type": "execute_result"
    }
   ],
   "source": [
    "data.groupby('income_type')['days_employed'].agg('median')"
   ]
  },
  {
   "cell_type": "markdown",
   "id": "4b5e96b5",
   "metadata": {},
   "source": [
    "У двух типов (безработные и пенсионеры) аномально высокие значения "
   ]
  },
  {
   "cell_type": "markdown",
   "id": "a53fa764",
   "metadata": {},
   "source": [
    "Выведем перечень уникальных значений столбца `children`"
   ]
  },
  {
   "cell_type": "code",
   "execution_count": 14,
   "id": "d815b6bf",
   "metadata": {},
   "outputs": [
    {
     "data": {
      "text/plain": [
       "array([ 1,  0,  3,  2, -1,  4, 20,  5], dtype=int64)"
      ]
     },
     "execution_count": 14,
     "metadata": {},
     "output_type": "execute_result"
    }
   ],
   "source": [
    "data['children'].unique()"
   ]
  },
  {
   "cell_type": "markdown",
   "id": "970dd01d",
   "metadata": {},
   "source": [
    " В столбце `children` есть два аномальных значения -1 и 20.\n",
    " \n",
    " \n",
    " Удалим строки, в которых встречаются такие аномальные значения из датафрейма "
   ]
  },
  {
   "cell_type": "code",
   "execution_count": 15,
   "id": "62adcd7e",
   "metadata": {},
   "outputs": [],
   "source": [
    "data = data[(data['children'] != -1) & (data['children'] != 20)]"
   ]
  },
  {
   "cell_type": "code",
   "execution_count": 16,
   "id": "0ce15f0b",
   "metadata": {},
   "outputs": [
    {
     "data": {
      "text/plain": [
       "array([1, 0, 3, 2, 4, 5], dtype=int64)"
      ]
     },
     "execution_count": 16,
     "metadata": {},
     "output_type": "execute_result"
    }
   ],
   "source": [
    "data['children'].unique()"
   ]
  },
  {
   "cell_type": "code",
   "execution_count": 18,
   "id": "99cbcf5e",
   "metadata": {},
   "outputs": [
    {
     "name": "stderr",
     "output_type": "stream",
     "text": [
      "C:\\Users\\Admin\\anaconda3\\lib\\site-packages\\pandas\\core\\indexing.py:1817: SettingWithCopyWarning: \n",
      "A value is trying to be set on a copy of a slice from a DataFrame.\n",
      "Try using .loc[row_indexer,col_indexer] = value instead\n",
      "\n",
      "See the caveats in the documentation: https://pandas.pydata.org/pandas-docs/stable/user_guide/indexing.html#returning-a-view-versus-a-copy\n",
      "  self._setitem_single_column(loc, value, pi)\n"
     ]
    }
   ],
   "source": [
    "for t in data['income_type'].unique():\n",
    "    data.loc[(data['income_type'] == t) & (data['days_employed'].isna()), 'days_employed'] = \\\n",
    "    data.loc[(data['income_type'] == t), 'days_employed'].median()"
   ]
  },
  {
   "cell_type": "code",
   "execution_count": 19,
   "id": "322df493",
   "metadata": {},
   "outputs": [
    {
     "data": {
      "text/plain": [
       "children            0\n",
       "days_employed       0\n",
       "dob_years           0\n",
       "education           0\n",
       "education_id        0\n",
       "family_status       0\n",
       "family_status_id    0\n",
       "gender              0\n",
       "income_type         0\n",
       "debt                0\n",
       "total_income        0\n",
       "purpose             0\n",
       "dtype: int64"
      ]
     },
     "execution_count": 19,
     "metadata": {},
     "output_type": "execute_result"
    }
   ],
   "source": [
    "data.isna().sum()"
   ]
  },
  {
   "cell_type": "markdown",
   "id": "7f9a1af3",
   "metadata": {},
   "source": [
    "### Изменение типов данных"
   ]
  },
  {
   "cell_type": "code",
   "execution_count": 20,
   "id": "03742d92",
   "metadata": {},
   "outputs": [
    {
     "name": "stderr",
     "output_type": "stream",
     "text": [
      "C:\\Users\\Admin\\AppData\\Local\\Temp/ipykernel_20292/1002644910.py:1: SettingWithCopyWarning: \n",
      "A value is trying to be set on a copy of a slice from a DataFrame.\n",
      "Try using .loc[row_indexer,col_indexer] = value instead\n",
      "\n",
      "See the caveats in the documentation: https://pandas.pydata.org/pandas-docs/stable/user_guide/indexing.html#returning-a-view-versus-a-copy\n",
      "  data['total_income'] = data['total_income'].astype(int)\n"
     ]
    }
   ],
   "source": [
    "data['total_income'] = data['total_income'].astype(int)"
   ]
  },
  {
   "cell_type": "markdown",
   "id": "d4c3aeb5",
   "metadata": {},
   "source": [
    "### Обработка дубликатов"
   ]
  },
  {
   "cell_type": "code",
   "execution_count": 21,
   "id": "006e59e3",
   "metadata": {},
   "outputs": [
    {
     "name": "stderr",
     "output_type": "stream",
     "text": [
      "C:\\Users\\Admin\\AppData\\Local\\Temp/ipykernel_20292/3990672150.py:1: SettingWithCopyWarning: \n",
      "A value is trying to be set on a copy of a slice from a DataFrame.\n",
      "Try using .loc[row_indexer,col_indexer] = value instead\n",
      "\n",
      "See the caveats in the documentation: https://pandas.pydata.org/pandas-docs/stable/user_guide/indexing.html#returning-a-view-versus-a-copy\n",
      "  data['education'] = data['education'].str.lower()\n"
     ]
    }
   ],
   "source": [
    "data['education'] = data['education'].str.lower()"
   ]
  },
  {
   "cell_type": "code",
   "execution_count": 22,
   "id": "f4cdefdb",
   "metadata": {},
   "outputs": [
    {
     "data": {
      "text/plain": [
       "71"
      ]
     },
     "execution_count": 22,
     "metadata": {},
     "output_type": "execute_result"
    }
   ],
   "source": [
    "data.duplicated().sum()"
   ]
  },
  {
   "cell_type": "code",
   "execution_count": 23,
   "id": "cd76a8dd",
   "metadata": {},
   "outputs": [],
   "source": [
    "data = data.drop_duplicates()"
   ]
  },
  {
   "cell_type": "markdown",
   "id": "b4834f82",
   "metadata": {},
   "source": [
    "### Категоризация данных"
   ]
  },
  {
   "cell_type": "markdown",
   "id": "49a67d28",
   "metadata": {},
   "source": [
    "- 0–30000 — `'E'`;\n",
    "- 30001–50000 — `'D'`;\n",
    "- 50001–200000 — `'C'`;\n",
    "- 200001–1000000 — `'B'`;\n",
    "- 1000001 и выше — `'A'`."
   ]
  },
  {
   "cell_type": "markdown",
   "id": "99dab6d7",
   "metadata": {},
   "source": [
    "Например, кредитополучателю с доходом 25000 нужно назначить категорию `'E'`, а клиенту, получающему 235000, — `'B'`"
   ]
  },
  {
   "cell_type": "code",
   "execution_count": 24,
   "id": "c326e7f2",
   "metadata": {},
   "outputs": [],
   "source": [
    "#Функция для категориизации кредитополучателей\n",
    "def categorize_income(income):\n",
    "    try:\n",
    "        if 0 <= income <= 30000:\n",
    "            return 'E'\n",
    "        elif 30001 <= income <= 50000:\n",
    "            return 'D'\n",
    "        elif 50001 <= income <= 200000:\n",
    "            return 'C'\n",
    "        elif 200001 <= income <= 1000000:\n",
    "            return 'B'\n",
    "        elif income >= 1000001:\n",
    "            return 'A'\n",
    "    except:\n",
    "        pass"
   ]
  },
  {
   "cell_type": "code",
   "execution_count": 25,
   "id": "61ea3373",
   "metadata": {},
   "outputs": [],
   "source": [
    "data['total_income_category'] = data['total_income'].apply(categorize_income)"
   ]
  },
  {
   "cell_type": "markdown",
   "id": "17487edb",
   "metadata": {},
   "source": [
    "перечень уникальных целей взятия кредита из столбца purpose"
   ]
  },
  {
   "cell_type": "code",
   "execution_count": 26,
   "id": "db72a530",
   "metadata": {},
   "outputs": [
    {
     "data": {
      "text/plain": [
       "array(['покупка жилья', 'приобретение автомобиля',\n",
       "       'дополнительное образование', 'сыграть свадьбу',\n",
       "       'операции с жильем', 'образование', 'на проведение свадьбы',\n",
       "       'покупка жилья для семьи', 'покупка недвижимости',\n",
       "       'покупка коммерческой недвижимости', 'покупка жилой недвижимости',\n",
       "       'строительство собственной недвижимости', 'недвижимость',\n",
       "       'строительство недвижимости', 'на покупку подержанного автомобиля',\n",
       "       'на покупку своего автомобиля',\n",
       "       'операции с коммерческой недвижимостью',\n",
       "       'строительство жилой недвижимости', 'жилье',\n",
       "       'операции со своей недвижимостью', 'автомобили',\n",
       "       'заняться образованием', 'сделка с подержанным автомобилем',\n",
       "       'получение образования', 'автомобиль', 'свадьба',\n",
       "       'получение дополнительного образования', 'покупка своего жилья',\n",
       "       'операции с недвижимостью', 'получение высшего образования',\n",
       "       'свой автомобиль', 'сделка с автомобилем',\n",
       "       'профильное образование', 'высшее образование',\n",
       "       'покупка жилья для сдачи', 'на покупку автомобиля', 'ремонт жилью',\n",
       "       'заняться высшим образованием'], dtype=object)"
      ]
     },
     "execution_count": 26,
     "metadata": {},
     "output_type": "execute_result"
    }
   ],
   "source": [
    "data['purpose'].unique()"
   ]
  },
  {
   "cell_type": "markdown",
   "id": "3e38c08a",
   "metadata": {},
   "source": [
    "Создадим функцию, которая на основании данных из столбца `purpose` сформирует новый столбец `purpose_category`, в который войдут следующие категории:**\n",
    "\n",
    "- `'операции с автомобилем'`,\n",
    "- `'операции с недвижимостью'`,\n",
    "- `'проведение свадьбы'`,\n",
    "- `'получение образования'`."
   ]
  },
  {
   "cell_type": "code",
   "execution_count": 28,
   "id": "7dd3752a",
   "metadata": {},
   "outputs": [],
   "source": [
    "def categorize_purpose(row):\n",
    "    try:\n",
    "        if 'автом' in row:\n",
    "            return 'операции с автомобилем'\n",
    "        elif 'жил' in row or 'недвиж' in row:\n",
    "            return 'операции с недвижимостью'\n",
    "        elif 'свад' in row:\n",
    "            return 'проведение свадьбы'\n",
    "        elif 'образов' in row:\n",
    "            return 'получение образования'\n",
    "    except:\n",
    "        return 'нет категории'"
   ]
  },
  {
   "cell_type": "code",
   "execution_count": 29,
   "id": "94dbf5de",
   "metadata": {},
   "outputs": [],
   "source": [
    "data['purpose_category'] = data['purpose'].apply(categorize_purpose)"
   ]
  },
  {
   "cell_type": "markdown",
   "id": "4a582d9a",
   "metadata": {},
   "source": [
    "# Есть ли зависимость между количеством детей и возвратом кредита в срок?\""
   ]
  },
  {
   "cell_type": "code",
   "execution_count": 30,
   "id": "4072511d",
   "metadata": {},
   "outputs": [
    {
     "data": {
      "text/html": [
       "<div>\n",
       "<style scoped>\n",
       "    .dataframe tbody tr th:only-of-type {\n",
       "        vertical-align: middle;\n",
       "    }\n",
       "\n",
       "    .dataframe tbody tr th {\n",
       "        vertical-align: top;\n",
       "    }\n",
       "\n",
       "    .dataframe thead th {\n",
       "        text-align: right;\n",
       "    }\n",
       "</style>\n",
       "<table border=\"1\" class=\"dataframe\">\n",
       "  <thead>\n",
       "    <tr style=\"text-align: right;\">\n",
       "      <th></th>\n",
       "      <th>Заемщиков</th>\n",
       "      <th>Просрочек</th>\n",
       "      <th>Доля просрочек</th>\n",
       "    </tr>\n",
       "    <tr>\n",
       "      <th>children</th>\n",
       "      <th></th>\n",
       "      <th></th>\n",
       "      <th></th>\n",
       "    </tr>\n",
       "  </thead>\n",
       "  <tbody>\n",
       "    <tr>\n",
       "      <th>5</th>\n",
       "      <td>9</td>\n",
       "      <td>0</td>\n",
       "      <td>0.000000</td>\n",
       "    </tr>\n",
       "    <tr>\n",
       "      <th>0</th>\n",
       "      <td>14091</td>\n",
       "      <td>1063</td>\n",
       "      <td>0.075438</td>\n",
       "    </tr>\n",
       "    <tr>\n",
       "      <th>3</th>\n",
       "      <td>330</td>\n",
       "      <td>27</td>\n",
       "      <td>0.081818</td>\n",
       "    </tr>\n",
       "    <tr>\n",
       "      <th>1</th>\n",
       "      <td>4808</td>\n",
       "      <td>444</td>\n",
       "      <td>0.092346</td>\n",
       "    </tr>\n",
       "    <tr>\n",
       "      <th>2</th>\n",
       "      <td>2052</td>\n",
       "      <td>194</td>\n",
       "      <td>0.094542</td>\n",
       "    </tr>\n",
       "    <tr>\n",
       "      <th>4</th>\n",
       "      <td>41</td>\n",
       "      <td>4</td>\n",
       "      <td>0.097561</td>\n",
       "    </tr>\n",
       "  </tbody>\n",
       "</table>\n",
       "</div>"
      ],
      "text/plain": [
       "          Заемщиков  Просрочек  Доля просрочек\n",
       "children                                      \n",
       "5                 9          0        0.000000\n",
       "0             14091       1063        0.075438\n",
       "3               330         27        0.081818\n",
       "1              4808        444        0.092346\n",
       "2              2052        194        0.094542\n",
       "4                41          4        0.097561"
      ]
     },
     "execution_count": 30,
     "metadata": {},
     "output_type": "execute_result"
    }
   ],
   "source": [
    "children_pivot = data.pivot_table(index = ['children'], values = 'debt', aggfunc = ['count', 'sum', 'mean'])\n",
    "children_pivot.columns = ['Заемщиков', 'Просрочек', 'Доля просрочек']\n",
    "children_pivot.sort_values(by='Доля просрочек',ascending=True)"
   ]
  },
  {
   "cell_type": "markdown",
   "id": "8a433e85",
   "metadata": {},
   "source": [
    "**Вывод по анализу данных о количестве детей и вероятности возврата кредита:**\n",
    "\n",
    "1. Для анализа использовались данные о заемщиках, включающие информацию о количестве детей и вероятности возврата кредита.\n",
    "\n",
    "2. В ходе анализа были рассмотрены следующие категории заемщиков по количеству детей: 0, 1, 2, 3 и более 3 детей.\n",
    "\n",
    "3. Наиболее вероятным для возврата кредита оказалось наличие 0 и 3 детей. Это может указывать на более стабильную финансовую ситуацию в этих категориях заемщиков.\n",
    "\n",
    "4. Самыми рискованными категориями для возврата кредита оказались заемщики с 1 и 2 детьми. Возможно, это связано с дополнительными финансовыми обязательствами, которые могут повлиять на способность вернуть кредит.\n",
    "\n",
    "5. Замечено, что для категорий заемщиков с более чем 3 детьми данные имеют ошибки или не представляют статистически значимую выборку. Вероятно, эти категории требуют дополнительной проверки и анализа.\n"
   ]
  },
  {
   "cell_type": "markdown",
   "id": "5c61d5fc",
   "metadata": {},
   "source": [
    "# Есть ли зависимость между семейным положением и возвратом кредита в срок?"
   ]
  },
  {
   "cell_type": "code",
   "execution_count": 32,
   "id": "c5420103",
   "metadata": {},
   "outputs": [
    {
     "data": {
      "text/html": [
       "<div>\n",
       "<style scoped>\n",
       "    .dataframe tbody tr th:only-of-type {\n",
       "        vertical-align: middle;\n",
       "    }\n",
       "\n",
       "    .dataframe tbody tr th {\n",
       "        vertical-align: top;\n",
       "    }\n",
       "\n",
       "    .dataframe thead th {\n",
       "        text-align: right;\n",
       "    }\n",
       "</style>\n",
       "<table border=\"1\" class=\"dataframe\">\n",
       "  <thead>\n",
       "    <tr style=\"text-align: right;\">\n",
       "      <th></th>\n",
       "      <th>Заемщиков</th>\n",
       "      <th>Просрочек</th>\n",
       "      <th>Доля просрочек</th>\n",
       "    </tr>\n",
       "    <tr>\n",
       "      <th>family_status</th>\n",
       "      <th></th>\n",
       "      <th></th>\n",
       "      <th></th>\n",
       "    </tr>\n",
       "  </thead>\n",
       "  <tbody>\n",
       "    <tr>\n",
       "      <th>вдовец / вдова</th>\n",
       "      <td>951</td>\n",
       "      <td>63</td>\n",
       "      <td>0.066246</td>\n",
       "    </tr>\n",
       "    <tr>\n",
       "      <th>в разводе</th>\n",
       "      <td>1189</td>\n",
       "      <td>84</td>\n",
       "      <td>0.070648</td>\n",
       "    </tr>\n",
       "    <tr>\n",
       "      <th>женат / замужем</th>\n",
       "      <td>12261</td>\n",
       "      <td>927</td>\n",
       "      <td>0.075606</td>\n",
       "    </tr>\n",
       "    <tr>\n",
       "      <th>гражданский брак</th>\n",
       "      <td>4134</td>\n",
       "      <td>385</td>\n",
       "      <td>0.093130</td>\n",
       "    </tr>\n",
       "    <tr>\n",
       "      <th>Не женат / не замужем</th>\n",
       "      <td>2796</td>\n",
       "      <td>273</td>\n",
       "      <td>0.097639</td>\n",
       "    </tr>\n",
       "  </tbody>\n",
       "</table>\n",
       "</div>"
      ],
      "text/plain": [
       "                       Заемщиков  Просрочек  Доля просрочек\n",
       "family_status                                              \n",
       "вдовец / вдова               951         63        0.066246\n",
       "в разводе                   1189         84        0.070648\n",
       "женат / замужем            12261        927        0.075606\n",
       "гражданский брак            4134        385        0.093130\n",
       "Не женат / не замужем       2796        273        0.097639"
      ]
     },
     "metadata": {},
     "output_type": "display_data"
    }
   ],
   "source": [
    "data_pivot2 = data.pivot_table(index=['family_status'],  values='debt', aggfunc=['count', 'sum', 'mean'])\n",
    "data_pivot2.columns=['Заемщиков', 'Просрочек', 'Доля просрочек']\n",
    "display(data_pivot2.sort_values(by='Доля просрочек',ascending=True))"
   ]
  },
  {
   "cell_type": "markdown",
   "id": "81a3020e",
   "metadata": {},
   "source": [
    "**Вывод по анализу данных о зависимости между семейным положением и возвратом кредита в срок:**\n",
    "\n",
    "1. Наиболее вероятен возврат в категории со статусом  вдовец- вдова;\n",
    "2. Наименее вероятен возврат в категории со статусом не женат/не замужем.\n"
   ]
  },
  {
   "cell_type": "markdown",
   "id": "e558268d",
   "metadata": {},
   "source": [
    "# Есть ли зависимость между уровнем дохода и возвратом кредита в срок?"
   ]
  },
  {
   "cell_type": "code",
   "execution_count": 33,
   "id": "b271d6c4",
   "metadata": {},
   "outputs": [
    {
     "data": {
      "text/html": [
       "<div>\n",
       "<style scoped>\n",
       "    .dataframe tbody tr th:only-of-type {\n",
       "        vertical-align: middle;\n",
       "    }\n",
       "\n",
       "    .dataframe tbody tr th {\n",
       "        vertical-align: top;\n",
       "    }\n",
       "\n",
       "    .dataframe thead th {\n",
       "        text-align: right;\n",
       "    }\n",
       "</style>\n",
       "<table border=\"1\" class=\"dataframe\">\n",
       "  <thead>\n",
       "    <tr style=\"text-align: right;\">\n",
       "      <th></th>\n",
       "      <th>Заемщиков</th>\n",
       "      <th>Просрочек</th>\n",
       "      <th>Доля просрочек</th>\n",
       "    </tr>\n",
       "    <tr>\n",
       "      <th>total_income_category</th>\n",
       "      <th></th>\n",
       "      <th></th>\n",
       "      <th></th>\n",
       "    </tr>\n",
       "  </thead>\n",
       "  <tbody>\n",
       "    <tr>\n",
       "      <th>D</th>\n",
       "      <td>349</td>\n",
       "      <td>21</td>\n",
       "      <td>0.060172</td>\n",
       "    </tr>\n",
       "    <tr>\n",
       "      <th>B</th>\n",
       "      <td>5014</td>\n",
       "      <td>354</td>\n",
       "      <td>0.070602</td>\n",
       "    </tr>\n",
       "    <tr>\n",
       "      <th>A</th>\n",
       "      <td>25</td>\n",
       "      <td>2</td>\n",
       "      <td>0.080000</td>\n",
       "    </tr>\n",
       "    <tr>\n",
       "      <th>C</th>\n",
       "      <td>15921</td>\n",
       "      <td>1353</td>\n",
       "      <td>0.084982</td>\n",
       "    </tr>\n",
       "    <tr>\n",
       "      <th>E</th>\n",
       "      <td>22</td>\n",
       "      <td>2</td>\n",
       "      <td>0.090909</td>\n",
       "    </tr>\n",
       "  </tbody>\n",
       "</table>\n",
       "</div>"
      ],
      "text/plain": [
       "                       Заемщиков  Просрочек  Доля просрочек\n",
       "total_income_category                                      \n",
       "D                            349         21        0.060172\n",
       "B                           5014        354        0.070602\n",
       "A                             25          2        0.080000\n",
       "C                          15921       1353        0.084982\n",
       "E                             22          2        0.090909"
      ]
     },
     "metadata": {},
     "output_type": "display_data"
    }
   ],
   "source": [
    "data_pivot3 = data.pivot_table(index=['total_income_category'], values='debt', aggfunc=['count', 'sum', 'mean'])\n",
    "data_pivot3.columns=['Заемщиков', 'Просрочек', 'Доля просрочек']\n",
    "display(data_pivot3.sort_values(by='Доля просрочек',ascending=True))\n"
   ]
  },
  {
   "cell_type": "markdown",
   "id": "45c4f11b",
   "metadata": {},
   "source": [
    "**Вывод по анализу данных о зависимость между уровнем дохода и возвратом кредита в срок:**\n",
    "\n",
    "1. Наиболее вероятен возврат кредита клиентом категории D,B,C.\n",
    "2. Для категорий E и A наличие зависимости сомнительно из-за размеров выборки** "
   ]
  },
  {
   "cell_type": "markdown",
   "id": "d0aaad4b",
   "metadata": {},
   "source": [
    "# Как разные цели кредита влияют на его возврат в срок?"
   ]
  },
  {
   "cell_type": "code",
   "execution_count": 34,
   "id": "99bcced2",
   "metadata": {},
   "outputs": [
    {
     "data": {
      "text/html": [
       "<div>\n",
       "<style scoped>\n",
       "    .dataframe tbody tr th:only-of-type {\n",
       "        vertical-align: middle;\n",
       "    }\n",
       "\n",
       "    .dataframe tbody tr th {\n",
       "        vertical-align: top;\n",
       "    }\n",
       "\n",
       "    .dataframe thead th {\n",
       "        text-align: right;\n",
       "    }\n",
       "</style>\n",
       "<table border=\"1\" class=\"dataframe\">\n",
       "  <thead>\n",
       "    <tr style=\"text-align: right;\">\n",
       "      <th></th>\n",
       "      <th>Заемщиков</th>\n",
       "      <th>Просрочек</th>\n",
       "      <th>Доля просрочек</th>\n",
       "    </tr>\n",
       "    <tr>\n",
       "      <th>purpose_category</th>\n",
       "      <th></th>\n",
       "      <th></th>\n",
       "      <th></th>\n",
       "    </tr>\n",
       "  </thead>\n",
       "  <tbody>\n",
       "    <tr>\n",
       "      <th>операции с недвижимостью</th>\n",
       "      <td>10751</td>\n",
       "      <td>780</td>\n",
       "      <td>0.072551</td>\n",
       "    </tr>\n",
       "    <tr>\n",
       "      <th>проведение свадьбы</th>\n",
       "      <td>2313</td>\n",
       "      <td>183</td>\n",
       "      <td>0.079118</td>\n",
       "    </tr>\n",
       "    <tr>\n",
       "      <th>получение образования</th>\n",
       "      <td>3988</td>\n",
       "      <td>369</td>\n",
       "      <td>0.092528</td>\n",
       "    </tr>\n",
       "    <tr>\n",
       "      <th>операции с автомобилем</th>\n",
       "      <td>4279</td>\n",
       "      <td>400</td>\n",
       "      <td>0.093480</td>\n",
       "    </tr>\n",
       "  </tbody>\n",
       "</table>\n",
       "</div>"
      ],
      "text/plain": [
       "                          Заемщиков  Просрочек  Доля просрочек\n",
       "purpose_category                                              \n",
       "операции с недвижимостью      10751        780        0.072551\n",
       "проведение свадьбы             2313        183        0.079118\n",
       "получение образования          3988        369        0.092528\n",
       "операции с автомобилем         4279        400        0.093480"
      ]
     },
     "metadata": {},
     "output_type": "display_data"
    }
   ],
   "source": [
    "data_pivot4 = data.pivot_table(index=['purpose_category'], values='debt', aggfunc=['count', 'sum', 'mean'])\n",
    "data_pivot4.columns=['Заемщиков', 'Просрочек', 'Доля просрочек']\n",
    "display(data_pivot4.sort_values(by='Доля просрочек',ascending=True))"
   ]
  },
  {
   "cell_type": "markdown",
   "id": "88eb5e28",
   "metadata": {},
   "source": [
    "**Вывод по анализу данных о влиянии цели кредита влияют на его возврат в срок:**\n",
    "\n",
    "1. Наиболее вероятен возврат клиентом в категории операции с недвижимостью.\n",
    "2. Наиболее вероятен возврат клиентом в категории автомобилем** "
   ]
  },
  {
   "cell_type": "markdown",
   "id": "340506f2",
   "metadata": {},
   "source": [
    "# Возможные причины появления пропусков в исходных данных"
   ]
  },
  {
   "cell_type": "markdown",
   "id": "5adcb039",
   "metadata": {},
   "source": [
    "**O возможных причинах появления пропусков в исходных данных**\n",
    "\n",
    "1. Ошибки распознования, ошибки пользователя, в общем случае- .\n",
    "2. Ошибки распознования, ошибки пользователя, в общем случае- .\n",
    "3. Ошибки при сборе данных (пользователь не знает, что указать)**\n"
   ]
  },
  {
   "cell_type": "markdown",
   "id": "50bc16e7",
   "metadata": {},
   "source": [
    "\n",
    "# Итоговый вывод:\n",
    "\n",
    "1. **Дубликаты и пропуски:** В данных присутствуют явные дубликаты и пропуски.\n",
    "\n",
    "2. **Отсутствие идентификации:** Отсутствует поле `user_id`, которое однозначно позволило бы идентифицировать клиента, например по номеру договора кредитования или паспорту.\n",
    "\n",
    "3. **Поле `children`:** Необходимо изучить значения (возможны ошибки, например 20 детей, -1 и т.п.).\n",
    "\n",
    "4. **Поле `days_employed`:** Проблемы с форматом даты и времени (отрицательные значения, формат поля int64).\n",
    "\n",
    "5. **Поле `dob_years`:** Вычисляемое поле, формат целое число, требует проверки.\n",
    "\n",
    "6. **Поле `education`:** Проблемы со стандартизацией (поле - комментарий), проблемы с дублями.\n",
    "\n",
    "7. **Поле `gender`:** Неверный формат (object), можно заменить на 0 и 1 (тип bool).\n",
    "\n",
    "8. **Поле `income_type`:** Необходимо добавить поле `income_type_id`.\n",
    "\n",
    "9. **Поле `debt`:** Неверный формат (int64), можно заменить на 0 и 1 (тип bool).\n",
    "\n",
    "10. **Поле `purpose`:** Необходима стандартизация, добавление поля `purpose_id`.\n",
    "\n",
    "11. **Поле `family_status`:** Содержит 5 типов, можно упростить до 2 (женат/замужем, не женат/не замужем) и перевести в формат типа bool. Можно также ввести `gender_type_id` как логическую переменную.\n",
    "\n",
    "12. **Поле `income_type`:** Необходима дополнительная классификация, так как клиенты могут иметь несколько свойств по данной классификации.\n",
    "\n",
    "**Ответы на вопросы:**\n",
    "\n",
    "1. Наиболее вероятен возврат кредита в категориях с количеством детей 0 и 3, наименее вероятен в категориях 1 и 2. Категории с количеством детей больше 3 имеют ошибки в данных.\n",
    "\n",
    "2. Наиболее вероятен возврат кредита в категории со статусом \"вдовец/вдова\" (2), наименее вероятен в категории со статусом \"не женат/не замужем\" (4).\n",
    "\n",
    "3. Наиболее вероятен возврат кредита в категориях B, C и D. Наименее вероятен в категории E.\n",
    "\n",
    "4. Наиболее вероятен возврат кредита при операциях с недвижимостью и свадьбой. Наименее вероятен при операциях с автомобилем.\n",
    "\n",
    "5. В целом, вероятность возврата кредита зависит от произведения вероятностей данных параметров. Однако, необходимо учитывать, что исходных данных недостаточно для полной оценки, и некоторые категории имеют маленькие размеры выборок, что может влиять на статистическую значимость результатов."
   ]
  },
  {
   "cell_type": "code",
   "execution_count": null,
   "id": "b0d86ec1",
   "metadata": {},
   "outputs": [],
   "source": []
  }
 ],
 "metadata": {
  "hide_input": false,
  "kernelspec": {
   "display_name": "Python 3 (ipykernel)",
   "language": "python",
   "name": "python3"
  },
  "language_info": {
   "codemirror_mode": {
    "name": "ipython",
    "version": 3
   },
   "file_extension": ".py",
   "mimetype": "text/x-python",
   "name": "python",
   "nbconvert_exporter": "python",
   "pygments_lexer": "ipython3",
   "version": "3.9.7"
  },
  "toc": {
   "base_numbering": 1,
   "nav_menu": {},
   "number_sections": true,
   "sideBar": true,
   "skip_h1_title": false,
   "title_cell": "Table of Contents",
   "title_sidebar": "Contents",
   "toc_cell": true,
   "toc_position": {},
   "toc_section_display": true,
   "toc_window_display": true
  }
 },
 "nbformat": 4,
 "nbformat_minor": 5
}
